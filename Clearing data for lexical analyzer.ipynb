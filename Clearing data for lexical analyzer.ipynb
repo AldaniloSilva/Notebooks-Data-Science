{
 "cells": [
  {
   "cell_type": "code",
   "execution_count": 1,
   "metadata": {},
   "outputs": [],
   "source": [
    "# NOME: ALIPIO DANILO DA SILVA\n",
    "# RA: 082170001 \n",
    "\n",
    "# print(pascal_keys)\n",
    "# print(pascal_code)\n",
    "\n",
    "# 1. ler arquivo\n",
    "# 2. quebrar em tokens\n",
    "# 3. usar regexp para verificar o tipo de token\n",
    "\n",
    "# palavras reservadas - keywords\n",
    "# float\n",
    "# int\n",
    "# variáveis -> regexp\n",
    "# operações (+, -, *, ^, =, :=)\n",
    "\n",
    "# Lex - Parser >>> WEB Scraping\n",
    "\n",
    "\n",
    "import re\n",
    "\n",
    "pascal_keys=\"\"\n",
    "pascal_code=\"\"\n",
    "\n",
    "with open(\"pascal-keys.txt\",\"r\") as pkeys:\n",
    "    pascal_keys = pkeys.read().split()\n",
    "\n",
    "with open(\"p1.pas\",\"r\") as pkeys:\n",
    "    pascal_code = pkeys.read().lower().split(';')"
   ]
  },
  {
   "cell_type": "code",
   "execution_count": 3,
   "metadata": {},
   "outputs": [
    {
     "data": {
      "text/plain": [
       "106"
      ]
     },
     "execution_count": 3,
     "metadata": {},
     "output_type": "execute_result"
    }
   ],
   "source": [
    "pascal_keys\n",
    "len(pascal_keys)"
   ]
  },
  {
   "cell_type": "code",
   "execution_count": 4,
   "metadata": {},
   "outputs": [
    {
     "data": {
      "text/plain": [
       "['program test',\n",
       " '\\nvar\\n   x : real',\n",
       " '\\n   i : integer',\n",
       " '\\n   j : integer',\n",
       " '\\nbegin\\n    x := 12.449',\n",
       " '\\n    i := 10',\n",
       " '\\n    j := -300',\n",
       " \"\\n    write('this is some text')\",\n",
       " \"   \\n    writeln('unformatted integer ',i)\",\n",
       " \"\\n    writeln('unformatted integer computation ',i*i)\",\n",
       " \"\\n    writeln('formatted integer',i:4)\",\n",
       " \"\\n    writeln('formatted integer',j:4)\",\n",
       " \"\\n    writeln('unformatted real ',x)\",\n",
       " \"\\n    write('formatted real')\",\n",
       " '\\n    write(x:8:2)',\n",
       " \"\\n    writeln('all in one line')\",\n",
       " '\\nend.']"
      ]
     },
     "execution_count": 4,
     "metadata": {},
     "output_type": "execute_result"
    }
   ],
   "source": [
    "pascal_code"
   ]
  },
  {
   "cell_type": "code",
   "execution_count": 5,
   "metadata": {},
   "outputs": [
    {
     "data": {
      "text/plain": [
       "[['program', 'test', ';'],\n",
       " ['var', 'x', ':', 'real', ';'],\n",
       " ['i', ':', 'integer', ';'],\n",
       " ['j', ':', 'integer', ';'],\n",
       " ['begin', 'x', ':=', '12.449', ';'],\n",
       " ['i', ':=', '10', ';'],\n",
       " ['j', ':=', '-300', ';'],\n",
       " ['write', '(', \"'this is some text')\", ';'],\n",
       " ['writeln', '(', \"'unformatted integer ',i)\", ';'],\n",
       " ['writeln', '(', \"'unformatted integer computation ',i*i)\", ';'],\n",
       " ['writeln', '(', \"'formatted integer',i:4)\", ';'],\n",
       " ['writeln', '(', \"'formatted integer',j:4)\", ';'],\n",
       " ['writeln', '(', \"'unformatted real ',x)\", ';'],\n",
       " ['write', '(', \"'formatted real')\", ';'],\n",
       " ['write', '(', 'x:8:2)', ';'],\n",
       " ['writeln', '(', \"'all in one line')\", ';'],\n",
       " ['end.']]"
      ]
     },
     "execution_count": 5,
     "metadata": {},
     "output_type": "execute_result"
    }
   ],
   "source": [
    "import re\n",
    "#pascal_code_2 = []\n",
    "#for x in pascal_code:\n",
    "#    print(x.split())\n",
    "re\n",
    "pascal_code_2 = []\n",
    "pascal_code_3 = []\n",
    "\n",
    "def PegaString (texto):\n",
    "    if texto == '\\n':\n",
    "        return \"\"\n",
    "    else:\n",
    "        resultado = re.findall(r\"\\'.+\\'\", texto)\n",
    "    \n",
    "    return resultado[0]\n",
    "\n",
    "def SubstituiEspaco (texto):\n",
    "    if texto.strip() =='\\n':\n",
    "        return \"\"\n",
    "    else:\n",
    "        return texto.strip().replace(' ','¬')\n",
    "\n",
    "\n",
    "for x in pascal_code:\n",
    "    if '(' and ')' not in x:\n",
    "        #print(x.split())\n",
    "        pascal_code_2.append(x.split())\n",
    "    else:\n",
    "        #print(x)\n",
    "        lista = SubstituiEspaco(x).split('(')\n",
    "        #lista = x.split()\n",
    "        pascal_code_2.append([lista[0],'(',lista[1].replace('¬',' ')])\n",
    "        \n",
    "\n",
    "\n",
    "for x in pascal_code_2:\n",
    "    if 'end.' not in x:\n",
    "        x.append(';')\n",
    "        \n",
    "\n",
    "        \n",
    "#PegaString(\"write('this is some text')\")\n",
    "pascal_code_2\n",
    "#len(pascal_code_2)"
   ]
  },
  {
   "cell_type": "code",
   "execution_count": 6,
   "metadata": {},
   "outputs": [
    {
     "data": {
      "text/plain": [
       "[['program', 'test', ';'],\n",
       " ['var', 'x', ':', 'real', ';'],\n",
       " ['i', ':', 'integer', ';'],\n",
       " ['j', ':', 'integer', ';'],\n",
       " ['begin', 'x', ':=', '12.449', ';'],\n",
       " ['i', ':=', '10', ';'],\n",
       " ['j', ':=', '-300', ';'],\n",
       " ['write', '(', \"'this is some text'\", ')', ';'],\n",
       " ['writeln', '(', \"'unformatted integer ',i)\", ';'],\n",
       " ['writeln', '(', \"'unformatted integer computation ',i*i)\", ';'],\n",
       " ['writeln', '(', \"'formatted integer',i:4)\", ';'],\n",
       " ['writeln', '(', \"'formatted integer',j:4)\", ';'],\n",
       " ['writeln', '(', \"'unformatted real ',x)\", ';'],\n",
       " ['write', '(', \"'formatted real'\", ')', ';'],\n",
       " ['write', '(', 'x:8:2)', ';'],\n",
       " ['writeln', '(', \"'all in one line'\", ')', ';'],\n",
       " ['end.']]"
      ]
     },
     "execution_count": 6,
     "metadata": {},
     "output_type": "execute_result"
    }
   ],
   "source": [
    "def SeparaString2 (lista):\n",
    "    novalista =[]\n",
    "    \n",
    "    for item in lista:\n",
    "        if \"')\" in item:\n",
    "            novalista.append(item.replace(\"')\",\"'\"))\n",
    "            novalista.append(')')\n",
    "        else:\n",
    "            novalista.append(item)\n",
    "    \n",
    "    return novalista\n",
    "\n",
    "\n",
    "     \n",
    "            \n",
    "for x in pascal_code_2:\n",
    "    for item in x:\n",
    "        if \"')\" in item:\n",
    "            pascal_code_2[pascal_code_2.index(x)] = SeparaString2(x)\n",
    "            \n",
    "        #if \")\" in item and len(item) > 1:\n",
    "\n",
    "pascal_code_2\n",
    "#len(pascal_code_2)       \n"
   ]
  },
  {
   "cell_type": "code",
   "execution_count": 7,
   "metadata": {},
   "outputs": [
    {
     "name": "stdout",
     "output_type": "stream",
     "text": [
      "['writeln', '(', \"'unformatted integer ',i)\", ';']\n",
      "['writeln', '(', \"'unformatted integer computation ',i*i)\", ';']\n",
      "['writeln', '(', \"'formatted integer',i:4)\", ';']\n",
      "['writeln', '(', \"'formatted integer',j:4)\", ';']\n",
      "['writeln', '(', \"'unformatted real ',x)\", ';']\n",
      "['write', '(', 'x:8:2)', ';']\n"
     ]
    },
    {
     "data": {
      "text/plain": [
       "[['program', 'test', ';'],\n",
       " ['var', 'x', ':', 'real', ';'],\n",
       " ['i', ':', 'integer', ';'],\n",
       " ['j', ':', 'integer', ';'],\n",
       " ['begin', 'x', ':=', '12.449', ';'],\n",
       " ['i', ':=', '10', ';'],\n",
       " ['j', ':=', '-300', ';'],\n",
       " ['write', '(', \"'this is some text'\", ')', ';'],\n",
       " ['writeln', '(', \"'unformatted integer '\", 'i', ')', ';'],\n",
       " ['writeln',\n",
       "  '(',\n",
       "  \"'unformatted integer computation '\",\n",
       "  'i',\n",
       "  '*',\n",
       "  'i',\n",
       "  ')',\n",
       "  ';'],\n",
       " ['writeln', '(', \"'formatted integer'\", 'i', ':', '4', ')', ';'],\n",
       " ['writeln', '(', \"'formatted integer'\", 'j', ':', '4', ')', ';'],\n",
       " ['writeln', '(', \"'unformatted real '\", 'x', ')', ';'],\n",
       " ['write', '(', \"'formatted real'\", ')', ';'],\n",
       " ['write', '(', 'x', ':', '8', ':', '2', ')', ';'],\n",
       " ['writeln', '(', \"'all in one line'\", ')', ';'],\n",
       " ['end.']]"
      ]
     },
     "execution_count": 7,
     "metadata": {},
     "output_type": "execute_result"
    }
   ],
   "source": [
    "def SeparaString2 (lista):\n",
    "    novalista =[]\n",
    "    \n",
    "    for item in lista:\n",
    "        if \"')\" in item:\n",
    "            novalista.append(item.replace(\"')\",\"'\"))\n",
    "            novalista.append(')')\n",
    "        else:\n",
    "            novalista.append(item)\n",
    "    \n",
    "    return novalista\n",
    "\n",
    "def TranformaLista (texto):\n",
    "    novalista =[]\n",
    "    for x in texto:\n",
    "        if \")\" in x and len(x) > 1:\n",
    "            sentenca = (TestaSplit(x)[0])\n",
    "            #print(sentenca)\n",
    "            teste = (TestaSplit(x)[1])\n",
    "            \n",
    "            if teste:\n",
    "                novalista.append(x.split(',')[0])\n",
    "                \n",
    "            for s in sentenca:\n",
    "                novalista.append(s)\n",
    "            \n",
    "            novalista.append(')')\n",
    "            \n",
    "        else:\n",
    "            novalista.append(x)\n",
    "        \n",
    "    return novalista    \n",
    "\n",
    "\n",
    "\n",
    "def TestaSplit (sentenca):\n",
    "    if len(sentenca.split(',')) > 1:\n",
    "        return [(sentenca.split(',')[1]).replace(')',''),True]\n",
    "    else:\n",
    "        #print(sentenca.replace(')',''))\n",
    "        return [sentenca.replace(')',''),False]\n",
    "\n",
    "\n",
    "\n",
    "            \n",
    "for x in pascal_code_2:\n",
    "    for item in x:\n",
    "        if \"')\" in item:\n",
    "            pascal_code_2[pascal_code_2.index(x)] = SeparaString2(x)\n",
    "        \n",
    "        if \")\" in item and len(item) > 1:\n",
    "            print(x)\n",
    "            pascal_code_2[pascal_code_2.index(x)] = TranformaLista(x)\n",
    "\n",
    "pascal_code_2\n",
    "#len(pascal_code_2)\n"
   ]
  },
  {
   "cell_type": "code",
   "execution_count": 8,
   "metadata": {},
   "outputs": [
    {
     "name": "stdout",
     "output_type": "stream",
     "text": [
      "i*i\n"
     ]
    },
    {
     "data": {
      "text/plain": [
       "['writeln', '(', \"'unformatted integer computation '\", 'i', '*', 'i', ')', ';']"
      ]
     },
     "execution_count": 8,
     "metadata": {},
     "output_type": "execute_result"
    }
   ],
   "source": [
    "def TranformaLista (texto):\n",
    "    novalista =[]\n",
    "    for x in texto:\n",
    "        if \")\" in x and len(x) > 1:\n",
    "            sentenca = (TestaSplit(x)[0])\n",
    "            print(sentenca)\n",
    "            teste = (TestaSplit(x)[1])\n",
    "            \n",
    "            if teste:\n",
    "                novalista.append(x.split(',')[0])\n",
    "                \n",
    "            for s in sentenca:\n",
    "                novalista.append(s)\n",
    "            \n",
    "            novalista.append(')')\n",
    "            \n",
    "        else:\n",
    "            novalista.append(x)\n",
    "        \n",
    "    return novalista    \n",
    "\n",
    "\n",
    "\n",
    "def TestaSplit (sentenca):\n",
    "    if len(sentenca.split(',')) > 1:\n",
    "        return [(sentenca.split(',')[1]).replace(')',''),True]\n",
    "    else:\n",
    "        #print(sentenca.replace(')',''))\n",
    "        return [sentenca.replace(')',''),False]\n",
    "    \n",
    "\n",
    "TranformaLista(['writeln', '(', \"'unformatted integer computation ',i*i)\", ';'])\n",
    "\n"
   ]
  },
  {
   "cell_type": "code",
   "execution_count": 9,
   "metadata": {},
   "outputs": [
    {
     "name": "stdout",
     "output_type": "stream",
     "text": [
      "['program', 'test', ';']\n",
      "['var', 'x', ':', 'real', ';']\n",
      "['i', ':', 'integer', ';']\n",
      "['j', ':', 'integer', ';']\n",
      "['begin', 'x', ':=', '12.449', ';']\n",
      "['i', ':=', '10', ';']\n",
      "['j', ':=', '-300', ';']\n",
      "['write', '(', \"'this is some text'\", ')', ';']\n",
      "['writeln', '(', \"'unformatted integer '\", 'i', ')', ';']\n",
      "['writeln', '(', \"'unformatted integer computation '\", 'i', '*', 'i', ')', ';']\n",
      "['writeln', '(', \"'formatted integer'\", 'i', ':', '4', ')', ';']\n",
      "['writeln', '(', \"'formatted integer'\", 'j', ':', '4', ')', ';']\n",
      "['writeln', '(', \"'unformatted real '\", 'x', ')', ';']\n",
      "['write', '(', \"'formatted real'\", ')', ';']\n",
      "['write', '(', 'x', ':', '8', ':', '2', ')', ';']\n",
      "['writeln', '(', \"'all in one line'\", ')', ';']\n",
      "['end.']\n"
     ]
    }
   ],
   "source": [
    "for x in pascal_code_2:\n",
    "    print(x)"
   ]
  },
  {
   "cell_type": "code",
   "execution_count": 28,
   "metadata": {},
   "outputs": [
    {
     "name": "stdout",
     "output_type": "stream",
     "text": [
      "program\n",
      "test\n",
      ";\n",
      "var\n",
      "x\n",
      ":\n",
      "real\n",
      ";\n",
      "i\n",
      ":\n",
      "integer\n",
      ";\n",
      "j\n",
      ":\n",
      "integer\n",
      ";\n",
      "begin\n",
      "x\n",
      ":=\n",
      "12.449\n",
      ";\n",
      "i\n",
      ":=\n",
      "10\n",
      ";\n",
      "j\n",
      ":=\n",
      "-300\n",
      ";\n",
      "write\n",
      "(\n",
      "'this is some text'\n",
      ")\n",
      ";\n",
      "writeln\n",
      "(\n",
      "'unformatted integer '\n",
      "i\n",
      ")\n",
      ";\n",
      "writeln\n",
      "(\n",
      "'unformatted integer computation '\n",
      "i\n",
      "*\n",
      "i\n",
      ")\n",
      ";\n",
      "writeln\n",
      "(\n",
      "'formatted integer'\n",
      "i\n",
      ":\n",
      "4\n",
      ")\n",
      ";\n",
      "writeln\n",
      "(\n",
      "'formatted integer'\n",
      "j\n",
      ":\n",
      "4\n",
      ")\n",
      ";\n",
      "writeln\n",
      "(\n",
      "'unformatted real '\n",
      "x\n",
      ")\n",
      ";\n",
      "write\n",
      "(\n",
      "'formatted real'\n",
      ")\n",
      ";\n",
      "write\n",
      "(\n",
      "x\n",
      ":\n",
      "8\n",
      ":\n",
      "2\n",
      ")\n",
      ";\n",
      "writeln\n",
      "(\n",
      "'all in one line'\n",
      ")\n",
      ";\n",
      "end.\n"
     ]
    },
    {
     "data": {
      "text/plain": [
       "90"
      ]
     },
     "execution_count": 28,
     "metadata": {},
     "output_type": "execute_result"
    }
   ],
   "source": [
    "resultado =[]\n",
    "for x in pascal_code_2:\n",
    "    for item in x:\n",
    "        resultado.append(item)\n",
    "        print(item)\n",
    "len(resultado)"
   ]
  },
  {
   "cell_type": "code",
   "execution_count": 25,
   "metadata": {},
   "outputs": [],
   "source": [
    "operadores = ('<','>',':',':=','*','+','/')"
   ]
  },
  {
   "cell_type": "code",
   "execution_count": 49,
   "metadata": {},
   "outputs": [],
   "source": [
    "import re\n",
    "token = []\n",
    "\n",
    "def testar (x):\n",
    "    if x in pascal_keys:\n",
    "        return 'palavra reservada'\n",
    "    elif x in operadores:\n",
    "        return 'operador'\n",
    "    elif x == ';':\n",
    "        return 'final de setença'\n",
    "    elif x == 'end.':\n",
    "        return 'fim do programa'\n",
    "    elif testaString(x):\n",
    "        return 'String'\n",
    "    elif testaInteiro(x):\n",
    "        return 'Inteiro'\n",
    "    elif testaFloat(x):\n",
    "        return 'Float'\n",
    "    elif x != '(' and x != ')':\n",
    "        return 'variável'\n",
    "\n",
    "def testaString (x):\n",
    "    resultado = re.findall(r\"\\'.+\\'\", x)\n",
    "    if len(resultado) == 1:\n",
    "        return True\n",
    "\n",
    "def testaInteiro (x):\n",
    "    resultado = re.findall(r\"\\d\",x)\n",
    "    if len(resultado) == 1:\n",
    "        return True\n",
    "\n",
    "def testaFloat (x):\n",
    "    resultado = re.findall(r\"[0-9]+.[0-9]+\",x)\n",
    "    if len(resultado) == 1:\n",
    "        return True\n",
    "\n",
    "    \n",
    "for x in resultado:\n",
    "    token.append([x,testar(x)])\n",
    "   \n",
    "\n"
   ]
  },
  {
   "cell_type": "code",
   "execution_count": 50,
   "metadata": {},
   "outputs": [
    {
     "data": {
      "text/plain": [
       "[['program', 'palavra reservada'],\n",
       " ['test', 'variável'],\n",
       " [';', 'final de setença'],\n",
       " ['var', 'palavra reservada'],\n",
       " ['x', 'variável'],\n",
       " [':', 'operador'],\n",
       " ['real', 'variável'],\n",
       " [';', 'final de setença'],\n",
       " ['i', 'variável'],\n",
       " [':', 'operador'],\n",
       " ['integer', 'variável'],\n",
       " [';', 'final de setença'],\n",
       " ['j', 'variável'],\n",
       " [':', 'operador'],\n",
       " ['integer', 'variável'],\n",
       " [';', 'final de setença'],\n",
       " ['begin', 'palavra reservada'],\n",
       " ['x', 'variável'],\n",
       " [':=', 'operador'],\n",
       " ['12.449', 'Float'],\n",
       " [';', 'final de setença'],\n",
       " ['i', 'variável'],\n",
       " [':=', 'operador'],\n",
       " ['10', 'variável'],\n",
       " [';', 'final de setença'],\n",
       " ['j', 'variável'],\n",
       " [':=', 'operador'],\n",
       " ['-300', 'Float'],\n",
       " [';', 'final de setença'],\n",
       " ['write', 'palavra reservada'],\n",
       " ['(', None],\n",
       " [\"'this is some text'\", 'String'],\n",
       " [')', None],\n",
       " [';', 'final de setença'],\n",
       " ['writeln', 'palavra reservada'],\n",
       " ['(', None],\n",
       " [\"'unformatted integer '\", 'String'],\n",
       " ['i', 'variável'],\n",
       " [')', None],\n",
       " [';', 'final de setença'],\n",
       " ['writeln', 'palavra reservada'],\n",
       " ['(', None],\n",
       " [\"'unformatted integer computation '\", 'String'],\n",
       " ['i', 'variável'],\n",
       " ['*', 'operador'],\n",
       " ['i', 'variável'],\n",
       " [')', None],\n",
       " [';', 'final de setença'],\n",
       " ['writeln', 'palavra reservada'],\n",
       " ['(', None],\n",
       " [\"'formatted integer'\", 'String'],\n",
       " ['i', 'variável'],\n",
       " [':', 'operador'],\n",
       " ['4', 'Inteiro'],\n",
       " [')', None],\n",
       " [';', 'final de setença'],\n",
       " ['writeln', 'palavra reservada'],\n",
       " ['(', None],\n",
       " [\"'formatted integer'\", 'String'],\n",
       " ['j', 'variável'],\n",
       " [':', 'operador'],\n",
       " ['4', 'Inteiro'],\n",
       " [')', None],\n",
       " [';', 'final de setença'],\n",
       " ['writeln', 'palavra reservada'],\n",
       " ['(', None],\n",
       " [\"'unformatted real '\", 'String'],\n",
       " ['x', 'variável'],\n",
       " [')', None],\n",
       " [';', 'final de setença'],\n",
       " ['write', 'palavra reservada'],\n",
       " ['(', None],\n",
       " [\"'formatted real'\", 'String'],\n",
       " [')', None],\n",
       " [';', 'final de setença'],\n",
       " ['write', 'palavra reservada'],\n",
       " ['(', None],\n",
       " ['x', 'variável'],\n",
       " [':', 'operador'],\n",
       " ['8', 'Inteiro'],\n",
       " [':', 'operador'],\n",
       " ['2', 'Inteiro'],\n",
       " [')', None],\n",
       " [';', 'final de setença'],\n",
       " ['writeln', 'palavra reservada'],\n",
       " ['(', None],\n",
       " [\"'all in one line'\", 'String'],\n",
       " [')', None],\n",
       " [';', 'final de setença'],\n",
       " ['end.', 'fim do programa']]"
      ]
     },
     "execution_count": 50,
     "metadata": {},
     "output_type": "execute_result"
    }
   ],
   "source": [
    "token"
   ]
  },
  {
   "cell_type": "code",
   "execution_count": 51,
   "metadata": {},
   "outputs": [
    {
     "data": {
      "text/plain": [
       "90"
      ]
     },
     "execution_count": 51,
     "metadata": {},
     "output_type": "execute_result"
    }
   ],
   "source": [
    "round((len(token)/90*100),2)\n",
    "len(token)"
   ]
  },
  {
   "cell_type": "code",
   "execution_count": 48,
   "metadata": {},
   "outputs": [
    {
     "data": {
      "text/plain": [
       "'variável'"
      ]
     },
     "execution_count": 48,
     "metadata": {},
     "output_type": "execute_result"
    }
   ],
   "source": [
    "testar(')')"
   ]
  },
  {
   "cell_type": "code",
   "execution_count": null,
   "metadata": {},
   "outputs": [],
   "source": []
  }
 ],
 "metadata": {
  "kernelspec": {
   "display_name": "Python 3",
   "language": "python",
   "name": "python3"
  },
  "language_info": {
   "codemirror_mode": {
    "name": "ipython",
    "version": 3
   },
   "file_extension": ".py",
   "mimetype": "text/x-python",
   "name": "python",
   "nbconvert_exporter": "python",
   "pygments_lexer": "ipython3",
   "version": "3.7.0"
  }
 },
 "nbformat": 4,
 "nbformat_minor": 2
}
