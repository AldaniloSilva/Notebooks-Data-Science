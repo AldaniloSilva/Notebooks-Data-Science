{
 "cells": [
  {
   "cell_type": "code",
   "execution_count": 1,
   "metadata": {},
   "outputs": [],
   "source": [
    "# print(pascal_keys)\n",
    "# print(pascal_code)\n",
    "\n",
    "# 1. ler arquivo\n",
    "# 2. quebrar em tokens\n",
    "# 3. usar regexp para verificar o tipo de token\n",
    "\n",
    "# palavras reservadas - keywords\n",
    "# float\n",
    "# int\n",
    "# variáveis -> regexp\n",
    "# operações (+, -, *, ^, =, :=)\n",
    "\n",
    "# Lex - Parser >>> WEB Scraping\n",
    "\n",
    "\n",
    "import re\n",
    "\n",
    "pascal_keys=\"\"\n",
    "pascal_code=\"\"\n",
    "\n",
    "with open(\"pascal-keys.txt\",\"r\") as pkeys:\n",
    "    pascal_keys = pkeys.read().split()\n",
    "\n",
    "with open(\"p1.pas\",\"r\") as pkeys:\n",
    "    pascal_code = pkeys.read().lower().split(';')"
   ]
  },
  {
   "cell_type": "code",
   "execution_count": 2,
   "metadata": {},
   "outputs": [
    {
     "data": {
      "text/plain": [
       "['and',\n",
       " 'begin',\n",
       " 'boolean',\n",
       " 'break',\n",
       " 'byte',\n",
       " 'continue',\n",
       " 'div',\n",
       " 'do',\n",
       " 'double',\n",
       " 'xor',\n",
       " 'else',\n",
       " 'end',\n",
       " 'false',\n",
       " 'if',\n",
       " 'integer',\n",
       " 'longint',\n",
       " 'mod',\n",
       " 'not',\n",
       " 'or',\n",
       " 'repeat',\n",
       " 'shl',\n",
       " 'shortint',\n",
       " 'shr',\n",
       " 'single',\n",
       " 'then',\n",
       " 'true',\n",
       " 'program',\n",
       " 'var',\n",
       " 'until',\n",
       " 'while',\n",
       " 'word',\n",
       " 'xor']"
      ]
     },
     "execution_count": 2,
     "metadata": {},
     "output_type": "execute_result"
    }
   ],
   "source": [
    "pascal_keys"
   ]
  },
  {
   "cell_type": "code",
   "execution_count": 3,
   "metadata": {},
   "outputs": [
    {
     "data": {
      "text/plain": [
       "['program test',\n",
       " '\\nvar\\n   x : real',\n",
       " '\\n   i : integer',\n",
       " '\\n   j : integer',\n",
       " '\\nbegin\\n    x := 12.449',\n",
       " '\\n    i := 10',\n",
       " '\\n    j := -300',\n",
       " \"\\n    write('this is some text')\",\n",
       " \"   \\n    writeln('unformatted integer ',i)\",\n",
       " \"\\n    writeln('unformatted integer computation ',i*i)\",\n",
       " \"\\n    writeln('formatted integer',i:4)\",\n",
       " \"\\n    writeln('formatted integer',j:4)\",\n",
       " \"\\n    writeln('unformatted real ',x)\",\n",
       " \"\\n    write('formatted real')\",\n",
       " '\\n    write(x:8:2)',\n",
       " \"\\n    writeln('all in one line')\",\n",
       " '\\nend.']"
      ]
     },
     "execution_count": 3,
     "metadata": {},
     "output_type": "execute_result"
    }
   ],
   "source": [
    "pascal_code"
   ]
  },
  {
   "cell_type": "code",
   "execution_count": 34,
   "metadata": {},
   "outputs": [
    {
     "name": "stdout",
     "output_type": "stream",
     "text": [
      "['write', \"'this¬is¬some¬text')\"]\n",
      "['writeln', \"'unformatted¬integer¬',i)\"]\n",
      "['writeln', \"'unformatted¬integer¬computation¬',i*i)\"]\n",
      "['writeln', \"'formatted¬integer',i:4)\"]\n",
      "['writeln', \"'formatted¬integer',j:4)\"]\n",
      "['writeln', \"'unformatted¬real¬',x)\"]\n",
      "['write', \"'formatted¬real')\"]\n",
      "['write', 'x:8:2)']\n",
      "['writeln', \"'all¬in¬one¬line')\"]\n"
     ]
    },
    {
     "data": {
      "text/plain": [
       "[['program', 'test', ';'],\n",
       " ['var', 'x', ':', 'real', ';'],\n",
       " ['i', ':', 'integer', ';'],\n",
       " ['j', ':', 'integer', ';'],\n",
       " ['begin', 'x', ':=', '12.449', ';'],\n",
       " ['i', ':=', '10', ';'],\n",
       " ['j', ':=', '-300', ';'],\n",
       " ['write', '(', \"'this is some text')\", ';'],\n",
       " ['writeln', '(', \"'unformatted integer ',i)\", ';'],\n",
       " ['writeln', '(', \"'unformatted integer computation ',i*i)\", ';'],\n",
       " ['writeln', '(', \"'formatted integer',i:4)\", ';'],\n",
       " ['writeln', '(', \"'formatted integer',j:4)\", ';'],\n",
       " ['writeln', '(', \"'unformatted real ',x)\", ';'],\n",
       " ['write', '(', \"'formatted real')\", ';'],\n",
       " ['write', '(', 'x:8:2)', ';'],\n",
       " ['writeln', '(', \"'all in one line')\", ';'],\n",
       " ['end.']]"
      ]
     },
     "execution_count": 34,
     "metadata": {},
     "output_type": "execute_result"
    }
   ],
   "source": [
    "import re\n",
    "#pascal_code_2 = []\n",
    "#for x in pascal_code:\n",
    "#    print(x.split())\n",
    "re\n",
    "pascal_code_2 = []\n",
    "pascal_code_3 = []\n",
    "\n",
    "def PegaString (texto):\n",
    "    if texto == '\\n':\n",
    "        return \"\"\n",
    "    else:\n",
    "        resultado = re.findall(r\"\\'.+\\'\", texto)\n",
    "        return resultado[0]\n",
    "\n",
    "def SubstituiEspaco (texto):\n",
    "    if texto.strip() =='\\n':\n",
    "        return \"\"\n",
    "    else:\n",
    "        return texto.strip().replace(' ','¬')\n",
    "\n",
    "\n",
    "for x in pascal_code:\n",
    "    if '(' and ')' not in x:\n",
    "        #print(x.split())\n",
    "        pascal_code_2.append(x.split())\n",
    "    else:\n",
    "        #print(x)\n",
    "        lista = SubstituiEspaco(x).split('(')\n",
    "        #lista = x.split()\n",
    "        print(lista)\n",
    "        pascal_code_2.append([lista[0],'(',lista[1].replace('¬',' ')])\n",
    "        \n",
    "\n",
    "\n",
    "for x in pascal_code_2:\n",
    "    if 'end.' not in x:\n",
    "        x.append(';')\n",
    "        \n",
    "#PegaString(\"write('this is some text')\")\n",
    "pascal_code_2\n"
   ]
  },
  {
   "cell_type": "code",
   "execution_count": null,
   "metadata": {},
   "outputs": [],
   "source": []
  },
  {
   "cell_type": "code",
   "execution_count": null,
   "metadata": {},
   "outputs": [],
   "source": []
  },
  {
   "cell_type": "code",
   "execution_count": null,
   "metadata": {},
   "outputs": [],
   "source": []
  }
 ],
 "metadata": {
  "kernelspec": {
   "display_name": "Python 3",
   "language": "python",
   "name": "python3"
  },
  "language_info": {
   "codemirror_mode": {
    "name": "ipython",
    "version": 3
   },
   "file_extension": ".py",
   "mimetype": "text/x-python",
   "name": "python",
   "nbconvert_exporter": "python",
   "pygments_lexer": "ipython3",
   "version": "3.7.0"
  }
 },
 "nbformat": 4,
 "nbformat_minor": 2
}
